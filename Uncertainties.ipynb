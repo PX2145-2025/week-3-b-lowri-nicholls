{
 "cells": [
  {
   "cell_type": "markdown",
   "metadata": {
    "id": "uTwF3sh3hoD9"
   },
   "source": [
    "# Feedback from previous weeks and other and hints\n",
    "\n",
    "1. Be careful about your environment remembering variables. Make sure your code works in a new _clean_ environment. In Colab: `Runtime`->`restart Runtime`, in Anaconda's Jupyter: `Kernel`->`Restart`.\n",
    "2. Graphs without labels (or units when appropriate) are not worth any point.\n",
    "3. Do put in sufficient explanatory comments in your code.\n",
    "4. Functions are very important. Do look up the video on the Safari O'Reilly ressource if you are still not clear on them !\n",
    "\n",
    "For this week you can use these imports at the start of your programs:"
   ]
  },
  {
   "cell_type": "code",
   "execution_count": 22,
   "metadata": {
    "id": "ZZlnsaZBhoD_"
   },
   "outputs": [],
   "source": [
    "import numpy as np\n",
    "import matplotlib.pyplot as plt"
   ]
  },
  {
   "cell_type": "markdown",
   "metadata": {
    "id": "Mwb2_SFDhoEB"
   },
   "source": [
    "We will use a new module `uncertainties`, which is **not** standard in the colab environment. You will have to first run:"
   ]
  },
  {
   "cell_type": "code",
   "execution_count": 23,
   "metadata": {
    "id": "KNy8dQu8hoEC"
   },
   "outputs": [],
   "source": [
    "! pip install -q uncertainties"
   ]
  },
  {
   "cell_type": "markdown",
   "metadata": {
    "id": "YQVS2dxyhoEC"
   },
   "source": [
    "To install the module before you can import it:"
   ]
  },
  {
   "cell_type": "code",
   "execution_count": 24,
   "metadata": {
    "id": "rqwaUzsMhoED"
   },
   "outputs": [],
   "source": [
    "import uncertainties as uc\n",
    "import uncertainties.umath as um # for maths functions"
   ]
  },
  {
   "cell_type": "markdown",
   "metadata": {
    "id": "kiK8ksGuhoED"
   },
   "source": [
    "# Introduction\n",
    "In the practical classes PX2133/PX2233 and PX2338 (Obs tech), as well as your year 3/4 project, a lot of emphasis is placed on the determination and mathematical handling of errors.\n",
    "The uncertainties module allows us to deal very easily with [error propagation](https://en.wikipedia.org/wiki/Propagation_of_uncertainty). For this sheet you should remind yourself about error bars in measurements and about propagation of uncertainties. Take an example from your lab handbook:\n",
    "\n",
    "**Example 1**: If the length of a rectangle is $1.24\\pm0.02 m$ and its breadth is $0.61\\pm0.01 m$, what is its area and the error in the area? The following code snippet solves this problem in a few lines."
   ]
  },
  {
   "cell_type": "code",
   "execution_count": 25,
   "metadata": {
    "colab": {
     "base_uri": "https://localhost:8080/"
    },
    "id": "zyDVuPBVhoEE",
    "outputId": "4d58d1c8-a132-4da4-9da0-9620da4b0a92"
   },
   "outputs": [
    {
     "name": "stdout",
     "output_type": "stream",
     "text": [
      "Area is: 0.756+/-0.017 m^2\n"
     ]
    }
   ],
   "source": [
    "L = uc.ufloat(1.24, 0.02)\n",
    "W = uc.ufloat(0.61, 0.01)\n",
    "print ('Area is:', L*W, 'm^2') # Do remember to add the units when printing!"
   ]
  },
  {
   "cell_type": "markdown",
   "metadata": {
    "id": "lNayV2YYhoEF"
   },
   "source": [
    "**Note**: For the area itself, it's fairly straightforward:"
   ]
  },
  {
   "cell_type": "code",
   "execution_count": 26,
   "metadata": {
    "colab": {
     "base_uri": "https://localhost:8080/"
    },
    "id": "QsYtMgYvhoEG",
    "outputId": "7a0a8aab-7769-4882-b483-c6df4228f727"
   },
   "outputs": [
    {
     "data": {
      "text/plain": [
       "0.7564"
      ]
     },
     "execution_count": 26,
     "metadata": {},
     "output_type": "execute_result"
    }
   ],
   "source": [
    "1.24*0.61"
   ]
  },
  {
   "cell_type": "markdown",
   "metadata": {
    "id": "tGetJ1pyhoEH"
   },
   "source": [
    "However, for the error bar on this number:"
   ]
  },
  {
   "cell_type": "code",
   "execution_count": 27,
   "metadata": {
    "colab": {
     "base_uri": "https://localhost:8080/"
    },
    "id": "jM2_Sv2NhoEH",
    "outputId": "91dceff9-01e3-4166-98a4-7fbe84e243ab"
   },
   "outputs": [
    {
     "data": {
      "text/plain": [
       "0.0002"
      ]
     },
     "execution_count": 27,
     "metadata": {},
     "output_type": "execute_result"
    }
   ],
   "source": [
    "0.02*0.01"
   ]
  },
  {
   "cell_type": "markdown",
   "metadata": {
    "id": "WQnYoydrhoEH"
   },
   "source": [
    "does not work. Instead, the [error progation formula](https://en.wikipedia.org/wiki/Propagation_of_uncertainty#Example_formulae) gives:"
   ]
  },
  {
   "cell_type": "code",
   "execution_count": 28,
   "metadata": {
    "colab": {
     "base_uri": "https://localhost:8080/"
    },
    "id": "uct0tRathoEH",
    "outputId": "b3011653-73f0-4e1d-994d-e6211de2f43f"
   },
   "outputs": [
    {
     "data": {
      "text/plain": [
       "np.float64(0.01739540169125163)"
      ]
     },
     "execution_count": 28,
     "metadata": {},
     "output_type": "execute_result"
    }
   ],
   "source": [
    "np.abs(1.24*0.61)*np.sqrt((0.02/1.24)**2+(0.01/0.61)**2)"
   ]
  },
  {
   "cell_type": "markdown",
   "metadata": {
    "id": "Qin5mBgphoEI"
   },
   "source": [
    "So the area is $0.756\\pm0.017 m^2$. `uncertainties` obviously saves a lot of work, even for such a simple case. You can also take a look at the web site uncertainties hosted at https://pythonhosted.org/uncertainties/user_guide.html. In particular, [this section](https://pythonhosted.org/uncertainties/user_guide.html#access-to-the-uncertainty-and-to-the-nominal-value) shows some of the properties of a `ufloat` you can access directly.\n",
    "\n",
    "**Example 2**: A reference object is $10.0\\pm0.0001 m$ long, and makes a viewing angle of $0.62\\pm0.02 rad$. How far is it?"
   ]
  },
  {
   "cell_type": "code",
   "execution_count": 29,
   "metadata": {
    "colab": {
     "base_uri": "https://localhost:8080/"
    },
    "id": "3KVqZN-qhoEJ",
    "outputId": "74f781fd-1029-443b-cdb0-a2d04ca27de8"
   },
   "outputs": [
    {
     "name": "stdout",
     "output_type": "stream",
     "text": [
      "Distance is: 15.609024890896208 m, with an error of: 0.537283338762715\n"
     ]
    }
   ],
   "source": [
    "L = uc.ufloat(10.0, 0.0001)\n",
    "theta = uc.ufloat(0.62,0.02)\n",
    "\n",
    "Distance = (L/2)/um.tan(theta/2)\n",
    "\n",
    "print ('Distance is:', Distance.nominal_value, 'm, with an error of:', Distance.std_dev)"
   ]
  },
  {
   "cell_type": "markdown",
   "metadata": {
    "id": "9ncgAyzrhoEJ"
   },
   "source": [
    "Note the need to use \"umath\" functions (like `um.tan()` instead of `np.tan()`), and how to get the nominal value and the standard deviation of the uncertainties objects. To get nicer looking output, such as controlling the number of significant digits printed, you can use the information about formatting at https://docs.python.org/3/tutorial/inputoutput.html. In the exercises below you need to print the values to the screen. (Don’t forget units.)"
   ]
  },
  {
   "cell_type": "markdown",
   "metadata": {
    "id": "mSyivMJZhoEK"
   },
   "source": [
    "# Exercises\n",
    "This must be marked before you leave the lab. Mark weighting is in brackets.\n",
    "**Save your work to GitHub after having run all cells with `Runtime` -> `Restart and run all`. And do not change the notebook's filename.** Do add comments to your code, you'll lose points if your code is hard to understand. Graphs without labels (or units when appropriate) are not worth any point.\n",
    "\n",
    "## Exercise 0\n",
    "[0] With some approximations, we have measured the mass of the following black-holes:\n",
    "```\n",
    "\"35.6+/-3.9\",\"30.6+/-3.7\",\"63.1+/-3.2\",\"23.2+/-9.8\",\"13.6+/-4.5\",\"35.7+/-6.8\",\"13.7+/-6.0\",\"7.7+/-2.4\",\"20.5+/-4.0\"\n",
    "```\n",
    "Compute for each (with error-bars) their lifetime due to Hawking radiation:\n",
    "$$\n",
    "t = \\left(\\frac{M}{M_{\\odot}}\\right)^3\\,\\times\\,2.097\\,\\times\\,10^{67} yr\n",
    "$$\n",
    "\n",
    "(this exercise is for demonstration purposes and won't be marked)"
   ]
  },
  {
   "cell_type": "code",
   "execution_count": 30,
   "metadata": {
    "id": "GlTw3twGhoEK"
   },
   "outputs": [],
   "source": [
    "! pip install -q uncertainties\n",
    "import uncertainties as uc\n",
    "import uncertainties.umath as um # for maths functions\n",
    "\n",
    "def lifetime(mass):\n",
    "  #This function will return the lifetime, in years, of a black hole of mass m in solar masses\n",
    "  return (mass**3)*2.097*10e67"
   ]
  },
  {
   "cell_type": "code",
   "execution_count": 31,
   "metadata": {
    "id": "PsBfjxILi23D"
   },
   "outputs": [],
   "source": [
    "strings=[\"35.6+/-3.9\",\"30.6+/-3.7\",\"63.1+/-3.2\",\"23.2+/-9.8\",\"13.6+/-4.5\",\"35.7+/-6.8\",\"13.7+/-6.0\",\"7.7+/-2.4\",\"20.5+/-4.0\"]"
   ]
  },
  {
   "cell_type": "code",
   "execution_count": 32,
   "metadata": {
    "id": "yW5bQ5uwjANf"
   },
   "outputs": [],
   "source": [
    "masses=[uc.ufloat_fromstr(s) for s in strings]"
   ]
  },
  {
   "cell_type": "code",
   "execution_count": 33,
   "metadata": {
    "colab": {
     "base_uri": "https://localhost:8080/"
    },
    "id": "Qm77hZqeje6T",
    "outputId": "f80f3dd2-4728-49e3-c4de-82d6ad2cef77"
   },
   "outputs": [
    {
     "data": {
      "text/plain": [
       "['   9.5e+72+/-   3.1e+72',\n",
       " '   6.0e+72+/-   2.2e+72',\n",
       " '   5.3e+73+/-   0.8e+73',\n",
       " '   2.6e+72+/-   3.3e+72',\n",
       " '   5.3e+71+/-   5.2e+71',\n",
       " '   9.5e+72+/-   5.5e+72',\n",
       " '   5.4e+71+/-   7.1e+71',\n",
       " '   9.6e+70+/-   9.0e+70',\n",
       " '   1.8e+72+/-   1.1e+72']"
      ]
     },
     "execution_count": 33,
     "metadata": {},
     "output_type": "execute_result"
    }
   ],
   "source": [
    "['{:10.1e}'.format(lifetime(bh_mass)) for bh_mass in masses]"
   ]
  },
  {
   "cell_type": "markdown",
   "metadata": {
    "id": "cdCro4a-hoEK"
   },
   "source": [
    "## Exercise 1\n",
    "[2] An object is measured to travel a distance $x = 5.1 \\pm 0.4 m$ during a time of $t = 0.4 \\pm 0.1 s$. What is the average velocity and the error in the average velocity?"
   ]
  },
  {
   "cell_type": "code",
   "execution_count": 10,
   "metadata": {
    "colab": {
     "base_uri": "https://localhost:8080/"
    },
    "id": "3sDOsowohoEL",
    "outputId": "8d694712-3638-42a3-f261-7efe823571ef"
   },
   "outputs": [
    {
     "data": {
      "text/plain": [
       "['   1.3e+01+/-   0.3e+01']"
      ]
     },
     "execution_count": 10,
     "metadata": {},
     "output_type": "execute_result"
    }
   ],
   "source": [
    "import uncertainties as uc\n",
    "import uncertainties.umath as um # for maths functions\n",
    "\n",
    "#Convert the distance, x, and time, t, into strings with their uncertainties\n",
    "xstring=\"5.1+/-0.4\"\n",
    "tstring=\"0.4+/- 0.1\"\n",
    "\n",
    "#Find the uncertainties of either string\n",
    "x=uc.ufloat(5.1, 0.4)\n",
    "t=uc.ufloat(0.4, 0.1)\n",
    "\n",
    "#Define velocity as the equation x/t, as we have data for each variable\n",
    "def velocity(x,t):\n",
    "  #This function will return the average velocities, in ms-1, of an object by dividing distance, x, by time, t\n",
    "  return x/t\n",
    "\n",
    "#Format the output with one decimal place\n",
    "['{:10.1e}'.format(velocity(x,t))]"
   ]
  },
  {
   "cell_type": "markdown",
   "metadata": {
    "id": "4RQozfXNhoEL"
   },
   "source": [
    "## Exercise 2\n",
    "[2] An enterprising cow attempts to jump over the moon by jumping vertically into the air with initial speed $v_0=4.0\\pm0.2 m/s$. After a time $t=0.60\\pm0.06s$, the height of the cow is $h = v_0t-\\frac{1}{2}g t^2 = 0.636 m$. What is the uncertainty in $h$? Take $g$ as exactly $9.81 ms^{-2}$."
   ]
  },
  {
   "cell_type": "code",
   "execution_count": 18,
   "metadata": {},
   "outputs": [
    {
     "data": {
      "text/plain": [
       "'C:\\\\Users\\\\c24061346'"
      ]
     },
     "execution_count": 18,
     "metadata": {},
     "output_type": "execute_result"
    }
   ],
   "source": [
    "pwd"
   ]
  },
  {
   "cell_type": "code",
   "execution_count": 11,
   "metadata": {
    "colab": {
     "base_uri": "https://localhost:8080/"
    },
    "id": "pUtk_x5YhoEL",
    "outputId": "a32fd11e-afe7-41b5-a4ba-3310e965d521"
   },
   "outputs": [
    {
     "data": {
      "text/plain": [
       "['   6.3e-01+/-   1.6e-01']"
      ]
     },
     "execution_count": 11,
     "metadata": {},
     "output_type": "execute_result"
    }
   ],
   "source": [
    "import uncertainties as uc\n",
    "import uncertainties.umath as um # for maths functions\n",
    "\n",
    "#Convert the initial speed, vo, and time, t, into strings with their uncertainties\n",
    "vostring=\"4.0+/-0.2\"\n",
    "tstring=\"0.60+/- 0.06\"\n",
    "\n",
    "#Find the uncertainties of either string\n",
    "vo=uc.ufloat_fromstr(vostring)\n",
    "t=uc.ufloat_fromstr(tstring)\n",
    "\n",
    "#Define height as the equation above\n",
    "def height(vo,t):\n",
    "  #This function will return the height, in m, of the cow using the equation\n",
    "  return (vo*t)-(0.5*9.81*(t)**2)\n",
    "\n",
    "#Format the output with one decimal place\n",
    "['{:10.1e}'.format(height(vo,t))]"
   ]
  },
  {
   "cell_type": "markdown",
   "metadata": {
    "id": "K7NvEQJyhoEL"
   },
   "source": [
    "## Exercise 3\n",
    "[2] In an optics experiment the object distance $u$ is measured to be 20cm and the image distance $v$ is 10cm, both to an accuracy of 0.5cm. Find the focal length $f$ of the lens using the formula:\n",
    "\n",
    "$$ \\frac{1}{u}+\\frac{1}{v}=\\frac{1}{f}$$"
   ]
  },
  {
   "cell_type": "code",
   "execution_count": 12,
   "metadata": {
    "colab": {
     "base_uri": "https://localhost:8080/"
    },
    "id": "0iR7bigmhoEL",
    "outputId": "7da1b504-8796-4fb1-8864-56e9adf15685"
   },
   "outputs": [
    {
     "data": {
      "text/plain": [
       "['   6.7e-02+/-   0.2e-02']"
      ]
     },
     "execution_count": 12,
     "metadata": {},
     "output_type": "execute_result"
    }
   ],
   "source": [
    "import uncertainties as uc\n",
    "import uncertainties.umath as um # for maths functions\n",
    "\n",
    "#Convert the object distance, u, and image distance, v, into strings with their uncertainties. In metres.\n",
    "ustring=\"0.2+/-0.005\"\n",
    "vstring=\"0.1+/- 0.005\"\n",
    "\n",
    "#Find the uncertainties of either string\n",
    "u=uc.ufloat_fromstr(ustring)\n",
    "v=uc.ufloat_fromstr(vstring)\n",
    "\n",
    "#Define focal length, f, as the equation above rearranged\n",
    "def focallength(u,v):\n",
    "  #This function will return the focal length, in m\n",
    "  return (u*v)/(u+v)\n",
    "\n",
    "#Format the output with one decimal place\n",
    "['{:10.1e}'.format(focallength(u,v))]"
   ]
  },
  {
   "cell_type": "markdown",
   "metadata": {
    "id": "wMQUHeu2hoEL"
   },
   "source": [
    "## Exercise 4\n",
    "[2] Two students each measure the refractive index of water. Jack measures a value of $1.33 \\pm 0.03$ while Jill measures $1.28 \\pm 0.02$. Are these values in agreement? *You do have to think a bit about this one...*"
   ]
  },
  {
   "cell_type": "code",
   "execution_count": 13,
   "metadata": {
    "colab": {
     "base_uri": "https://localhost:8080/"
    },
    "id": "ONpANEyWhoEL",
    "outputId": "19ff2e9a-62e9-418d-d5bb-9f2ef48844ac"
   },
   "outputs": [
    {
     "name": "stdout",
     "output_type": "stream",
     "text": [
      "0.05+/-0.04\n",
      "The result is not within the errors, therefore they don't agree\n"
     ]
    }
   ],
   "source": [
    "import uncertainties as uc\n",
    "import uncertainties.umath as um # for maths functions\n",
    "import numpy as np\n",
    "\n",
    "#Defining the measurements as floats\n",
    "jackstring=uc.ufloat(1.33, 0.03)\n",
    "jillstring=uc.ufloat(1.28, 0.02)\n",
    "\n",
    "#Minus Jill's measurement from Jack's\n",
    "print(jackstring - jillstring)\n",
    "\n",
    "print(\"The result is not within the errors, therefore they don't agree\")"
   ]
  },
  {
   "cell_type": "markdown",
   "metadata": {
    "id": "5k1AJuUbhoEM"
   },
   "source": [
    "## Exercise 5\n",
    "[2] The damped resonance frequency $\\omega_{res}$ of an oscillating system is related to the (un-damped) natural angular frequency $\\omega_0$ and the damping coefficient $\\alpha$ by:\n",
    "\n",
    "$$\\omega_{res} = \\sqrt{ \\omega_0^2 - 2\\alpha^2}$$\n",
    "\n",
    "Find $f_0$ if the measured resonance frequency $f_{res}$ is $23.2\\pm0.1 Hz$ and the measured damping coefficient is $19.5\\pm0.5s^{-1}$.\n"
   ]
  },
  {
   "cell_type": "code",
   "execution_count": 14,
   "metadata": {
    "colab": {
     "base_uri": "https://localhost:8080/"
    },
    "id": "J08fiIclhoEM",
    "outputId": "0befe1b7-a584-41ca-f79b-a44228e9f997"
   },
   "outputs": [
    {
     "data": {
      "text/plain": [
       "['   1.5e+02+/-   0.0e+02']"
      ]
     },
     "execution_count": 14,
     "metadata": {},
     "output_type": "execute_result"
    }
   ],
   "source": [
    "import uncertainties as uc\n",
    "import uncertainties.umath as um # for maths functions\n",
    "import numpy as np\n",
    "\n",
    "#Convert the resonance frequency, fres, and iamping coefficient, dc, into strings with their uncertainties\n",
    "ufresstring=\"23.2+/-0.1\"\n",
    "dcstring=\"19.5+/- 0.5\"\n",
    "\n",
    "#Find the uncertainties of either string\n",
    "ufres=uc.ufloat_fromstr(ufresstring)\n",
    "dc=uc.ufloat_fromstr(dcstring)\n",
    "\n",
    "#Using 𝜔o = 2*pi*fo, the above equation can be rearraanged to calculate fo\n",
    "#Define fo, as the equation above rearranged\n",
    "def frequencyo(ufres,dc):\n",
    "  #This function will return fo, in Hz\n",
    "  return um.sqrt(((ufres*2*np.pi)**2)+2*(dc**2)/2*np.pi)\n",
    "\n",
    "#Format the output with one decimal place\n",
    "['{:10.1e}'.format(frequencyo(ufres,dc))]"
   ]
  },
  {
   "cell_type": "markdown",
   "metadata": {
    "id": "CncmLVajhoEM"
   },
   "source": [
    "## Exercise 6\n",
    "[2] Suppose you have the following equation from one of your lab experiments:\n",
    "\n",
    "$$f=\\frac{c}{2}\\sqrt{\\frac{n_x^2}{L_x^2}+\\frac{n_y^2}{L_y^2}+\\frac{n_z^2}{L_z^2}}$$\n",
    "\n",
    "where $f$ is the resonant frequency of sound waves in a box of sides $L_x$, $L_y$ and $L_z$ in length and the $n_x$ etc. are integers. $L_x = 10.2\\pm0.2m$, $L_y = 5.2\\pm0.3m$ and $L_z = 20.0\\pm0.1 m$, while $c = 331.3 + T * 0.606 \\,m\\,s^{-1}$ is the temperature-dependent speed of sound, and the temperature $T$ is $23 \\pm 1^\\circ C$.\n",
    "Calculate $f$ and the error in $f$ for the following values of $(nx,ny,nz)= (1,1,1), (1,1,2)$ and $(2,1,1)$.\n"
   ]
  },
  {
   "cell_type": "code",
   "execution_count": 15,
   "metadata": {
    "colab": {
     "base_uri": "https://localhost:8080/"
    },
    "id": "xGsZMYzShoEM",
    "outputId": "de14d2c8-d22d-4c8a-b0a1-89b26436f037"
   },
   "outputs": [
    {
     "name": "stdout",
     "output_type": "stream",
     "text": [
      "38.2+/-1.7\n",
      "41.1+/-1.6\n",
      "48.2+/-1.4\n"
     ]
    }
   ],
   "source": [
    "import uncertainties as uc\n",
    "import uncertainties.umath as um # for maths functions\n",
    "import numpy as np\n",
    "\n",
    "#Convert the sides of the box, Lx, Ly, Lz, and the temperature, T, into strings with their uncertainties\n",
    "Lxstring=\"10.2+/-0.2\"\n",
    "Lystring=\"5.2+/-0.3\"\n",
    "Lzstring=\"20+/-0.1\"\n",
    "tstring=\"23+/-1\"\n",
    "\n",
    "#Find the uncertainties of all strings\n",
    "Lx=uc.ufloat_fromstr(Lxstring)\n",
    "Ly=uc.ufloat_fromstr(Lystring)\n",
    "Lz=uc.ufloat_fromstr(Lzstring)\n",
    "t=uc.ufloat_fromstr(tstring)\n",
    "\n",
    "#Define c\n",
    "c = 331.3 + t*0.606\n",
    "\n",
    "#(𝑛𝑥,𝑛𝑦,𝑛𝑧)=(1,1,1)\n",
    "#Define f for nx, as the equation above rearranged\n",
    "def f111(Lx,Lny,Lnz,c):\n",
    "  nx=1\n",
    "  ny=1\n",
    "  nz=1\n",
    "  #This function will return fnx, in Hz\n",
    "  return (c/2)*um.sqrt((nx**2/Lx**2)+(ny**2/Ly**2)+(nz**2/Lz**2))\n",
    "\n",
    "#Format the output with one decimal place\n",
    "#['{:10.1e}'.format(f111(Lx,Ly,Lz,c))]\n",
    "print(f111(Lx,Ly,Lz,c))\n",
    "\n",
    "#(𝑛𝑥,𝑛𝑦,𝑛𝑧)=(1,1,2)\n",
    "#Define f for ny, as the equation above rearranged\n",
    "def f112(Lx,Ly,Lz,c):\n",
    "  nx=1\n",
    "  ny=1\n",
    "  nz=2\n",
    "  #This function will return fny, in Hz\n",
    "  return (c/2)*um.sqrt((nx**2/Lx**2)+(ny**2/Ly**2)+(nz**2/Lz**2))\n",
    "\n",
    "#Format the output with one decimal place\n",
    "#['{:10.1e}'.format(f112(Lx,Ly,Lz,c))]\n",
    "print(f112(Lx,Ly,Lz,c)) \n",
    "\n",
    "#(𝑛𝑥,𝑛𝑦,𝑛𝑧)=(2,1,1)\n",
    "#Define f for nz, as the equation above rearranged\n",
    "def f211(Lx,Ly,Lz,c):\n",
    "  nx=2\n",
    "  ny=1\n",
    "  nz=1\n",
    "  #This function will return fnz, in Hz\n",
    "  return (c/2)*um.sqrt((nx**2/Lx**2)+(ny**2/Ly**2)+(nz**2/Lz**2))\n",
    "\n",
    "#Format the output with one decimal place\n",
    "#['{:10.1e}'.format(f211(Lx,Ly,Lz,t,c))]\n",
    "print(f211(Lx,Ly,Lz,c))"
   ]
  },
  {
   "cell_type": "markdown",
   "metadata": {
    "id": "yvNdiOVHhoEM"
   },
   "source": [
    "## Exercise 7\n",
    "[4] The reflection coefficient $R_\\parallel$ for parallel plane-polarised light reflected from a surface is given by the equation:\n",
    "\n",
    "$$ R_\\parallel = \\frac{\\tan^2(\\theta_i - \\theta_t)}{\\tan^2(\\theta_i + \\theta_t)} $$\n",
    "\n",
    "Calculate the error in $R_\\parallel$ given measurements $\\theta_i = (78 \\pm 1)^\\circ$ and $\\theta_t = (40 \\pm 1)^\\circ$."
   ]
  },
  {
   "cell_type": "code",
   "execution_count": 16,
   "metadata": {
    "id": "hvOHV-5khoEN"
   },
   "outputs": [
    {
     "data": {
      "text/plain": [
       "['   1.7e-01+/-   0.3e-01']"
      ]
     },
     "execution_count": 16,
     "metadata": {},
     "output_type": "execute_result"
    }
   ],
   "source": [
    "import uncertainties as uc\n",
    "import uncertainties.umath as um # for maths functions\n",
    "import numpy as np\n",
    "\n",
    "#Converting the measurements and errors to radians\n",
    "i=78*(np.pi/180)\n",
    "t=40*(np.pi/180)\n",
    "error=1*(np.pi/180)\n",
    "\n",
    "#Defining the measurements as floats\n",
    "i=uc.ufloat(i, error)\n",
    "t=uc.ufloat(t, error)\n",
    "\n",
    "#Define R∥, as the equation above\n",
    "def R(i,t):\n",
    "  #This function will return fo, in Hz\n",
    "  return ((um.tan(i-t)**2)/(um.tan(i+t)**2))\n",
    "\n",
    "  #Format the output with one decimal place\n",
    "['{:10.1e}'.format(R(i,t))]"
   ]
  },
  {
   "cell_type": "markdown",
   "metadata": {
    "id": "2EBAakURhoEN"
   },
   "source": [
    "## Exercise 8\n",
    "[4] Calculate and print to the screen the fractional uncertainty, as a percentage to one\n",
    "significant figure, of the fluid flow discharge coefficient $C_d$ from the equation\n",
    "\n",
    "$$\n",
    "C_d = \\frac{\\dot{m}\\sqrt{1-\\left(\\frac{d}{D}\\right)^4}}{Kd^2F\\sqrt{\\rho\\Delta P}}\n",
    "$$\n",
    "\n",
    "where\n",
    "\n",
    "\\begin{align*}\n",
    "    C_d &= \\text{discharge coefficient}&& \\text{(no units)} \\\\\n",
    "    \\dot{m} &= \\text{mass flow rate}&& = 0.13 \\pm 0.01kg\\,s^{-1} \\\\\n",
    "    d &= \\text{orifice diameter}&& = 11\\pm 1 mm \\\\\n",
    "    D &= \\text{pipe diameter}&& = 71 \\pm 1 mm \\\\\n",
    "    \\rho &= \\text{fluid density}&& =1.01\\pm0.01g\\,cm^{-3} \\\\\n",
    "    \\Delta P &= \\text{differential pressure}&& =156 \\pm 7 Pa \\\\\n",
    "    K &= \\text{a constant parameter}&& =\\text{constant (no units)} \\\\\n",
    "    F &= \\text{thermal expansion factor}&& =\\text{constant (no units)}\n",
    "\\end{align*}\n"
   ]
  },
  {
   "cell_type": "code",
   "execution_count": 17,
   "metadata": {
    "id": "NRfF3CUThoEN"
   },
   "outputs": [
    {
     "data": {
      "text/plain": [
       "'20%'"
      ]
     },
     "execution_count": 17,
     "metadata": {},
     "output_type": "execute_result"
    }
   ],
   "source": [
    "import uncertainties as uc\n",
    "import uncertainties.umath as um # for maths functions\n",
    "import numpy as np\n",
    "\n",
    "#Defining the measurements as floats\n",
    "m=uc.ufloat(0.13,0.01)\n",
    "d=uc.ufloat(0.011, 0.001)\n",
    "D=uc.ufloat(0.071, 0.001)\n",
    "rho=uc.ufloat(1.01,0.01)\n",
    "deltaP=uc.ufloat(156,7)\n",
    "\n",
    "#Setting to 1\n",
    "K=1\n",
    "F=1\n",
    "\n",
    "def Cd(m,d,D,rho,deltaP):\n",
    "  #This function will return Cd, in m^3/s\n",
    "  return ((m*um.sqrt(1-(d*D)**4))/(K*d**2*F*um.sqrt(rho*deltaP)))\n",
    "\n",
    "  #Calculating the fractional error\n",
    "insidebracket=Cd(m,d,D,rho,deltaP)\n",
    "a=insidebracket.std_dev/insidebracket.nominal_value\n",
    "\n",
    "  #Format the output with one decimal place, with a percentage error\n",
    "'{:.0%}'.format(a)\n"
   ]
  },
  {
   "cell_type": "markdown",
   "metadata": {
    "id": "tEriJbn2hoEN"
   },
   "source": [
    "## Exercise 9: Optional problem (not marked)\n",
    "If you have time and want to try something interesting, do the following problem by plotting in 2D:\n",
    " - Draw an equilateral triangle with vertices and coordinates: vertex 1: $(p_1,q_1)$; vertex 2: $(p_2, q_2)$; vertex 3: $(p_3, q_3)$.\n",
    " - Place a dot at an arbitrary point $P = (x_0, y_0)$ within this triangle.\n",
    " - Find the next point by selecting randomly an integer $n = 1 , 2, $  or $3$ :\n",
    "    1. If 1 , place a dot halfway between P and vertex 1.\n",
    "    2. If 2 , place a dot halfway between P and vertex 2.\n",
    "    3. If 3 , place a dot halfway between P and vertex 3.\n",
    " - Repeat the last two steps using the last dot as the new P.\n",
    "\n",
    "Mathematically, the coordinates of successive points are given by the formulae\n",
    "\n",
    "$$(x_{i+1},y_{i+1})=0.5[(x_i,y_i)+(p_n,q_n)]$$\n",
    "\n",
    "and\n",
    "\n",
    "$$n=int(1+3r_i),$$\n",
    "\n",
    "where $r_i$ is a random number between 0 and 1 and where the $int()$ function outputs the closest integer smaller than or equal to the argument.\n",
    "\n",
    "Try extending this to four vertices."
   ]
  },
  {
   "cell_type": "code",
   "execution_count": null,
   "metadata": {
    "id": "4jzg50oqhoEO"
   },
   "outputs": [],
   "source": []
  }
 ],
 "metadata": {
  "colab": {
   "provenance": []
  },
  "kernelspec": {
   "display_name": "Python 3 (ipykernel)",
   "language": "python",
   "name": "python3"
  },
  "language_info": {
   "codemirror_mode": {
    "name": "ipython",
    "version": 3
   },
   "file_extension": ".py",
   "mimetype": "text/x-python",
   "name": "python",
   "nbconvert_exporter": "python",
   "pygments_lexer": "ipython3",
   "version": "3.12.3"
  }
 },
 "nbformat": 4,
 "nbformat_minor": 4
}
